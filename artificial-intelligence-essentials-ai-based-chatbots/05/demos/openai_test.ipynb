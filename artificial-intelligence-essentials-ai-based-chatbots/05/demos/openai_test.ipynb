{
 "cells": [
  {
   "cell_type": "code",
   "execution_count": 4,
   "id": "bcea570d",
   "metadata": {},
   "outputs": [],
   "source": [
    "import os\n",
    "from openai import OpenAI"
   ]
  },
  {
   "cell_type": "code",
   "execution_count": 8,
   "id": "29d7f339",
   "metadata": {},
   "outputs": [
    {
     "name": "stdout",
     "output_type": "stream",
     "text": [
      "Cooking an omelette is quite simple! Here’s a basic recipe:\n",
      "\n",
      "### Ingredients:\n",
      "- 3 eggs\n",
      "- Salt and pepper to taste\n",
      "- 1-2 tablespoons of milk or water (optional, for fluffiness)\n",
      "- Butter or oil for the pan\n",
      "- Fillings of your choice (cheese, chopped vegetables, ham, etc.)\n",
      "\n",
      "### Instructions:\n",
      "\n",
      "1. **Beat the Eggs:**\n",
      "   - Crack the eggs into a bowl.\n",
      "   - Add a pinch of salt and pepper. You can also add milk or water.\n",
      "   - Whisk the eggs until the yolks and whites are well combined.\n",
      "\n",
      "2. **Prepare the Pan:**\n",
      "   - Heat a non-stick frying pan over medium heat.\n",
      "   - Add a small amount of butter or oil to coat the pan.\n",
      "\n",
      "3. **Cook the Eggs:**\n",
      "   - Pour the beaten eggs into the pan.\n",
      "   - Let them sit for a few seconds until they start to set around the edges.\n",
      "\n",
      "4. **Add Fillings:**\n",
      "   - Sprinkle your desired fillings (such as cheese, vegetables, or ham) over one half of the omelette.\n",
      "\n",
      "5. **Fold the Omelette:**\n",
      "   - Using a spatula, carefully fold the omelette in half.\n",
      "   - Cook for another minute or so, until the inside is cooked to your liking.\n",
      "\n",
      "6. **Serve:**\n",
      "   - Slide the omelette onto a plate.\n",
      "   - Garnish with herbs or more cheese if desired.\n",
      "\n",
      "Enjoy your tasty omelette!\n"
     ]
    }
   ],
   "source": [
    "\n",
    "\n",
    "client = OpenAI(\n",
    "    # This is the default and can be omitted\n",
    "    api_key=os.environ.get(\"OPENAI_API_KEY\"),\n",
    ")\n",
    "\n",
    "response = client.responses.create(\n",
    "    model=\"gpt-4o\",\n",
    "    instructions=\"You are an Chinese chef.\",\n",
    "    input=\"How do I cook an omlette?\",\n",
    ")\n",
    "\n",
    "print(response.output_text)"
   ]
  }
 ],
 "metadata": {
  "kernelspec": {
   "display_name": "Python 3",
   "language": "python",
   "name": "python3"
  },
  "language_info": {
   "codemirror_mode": {
    "name": "ipython",
    "version": 3
   },
   "file_extension": ".py",
   "mimetype": "text/x-python",
   "name": "python",
   "nbconvert_exporter": "python",
   "pygments_lexer": "ipython3",
   "version": "3.13.5"
  }
 },
 "nbformat": 4,
 "nbformat_minor": 5
}
