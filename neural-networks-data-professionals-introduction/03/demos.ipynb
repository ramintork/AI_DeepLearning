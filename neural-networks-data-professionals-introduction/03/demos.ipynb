{
 "cells": [
  {
   "cell_type": "code",
   "execution_count": 1,
   "id": "2e9b78eb",
   "metadata": {},
   "outputs": [],
   "source": [
    "from keras.datasets import cifar10\n",
    "(x_train, y_train), (x_test, y_test) = cifar10.load_data()"
   ]
  },
  {
   "cell_type": "markdown",
   "id": "48db8c5f",
   "metadata": {},
   "source": [
    "### Data preparation"
   ]
  },
  {
   "cell_type": "code",
   "execution_count": 2,
   "id": "e4a2f888",
   "metadata": {},
   "outputs": [],
   "source": [
    "import keras\n",
    "x_train = x_train.astype('float32')/255\n",
    "x_test = x_test.astype('float32')/255\n",
    "y_train = keras.utils.to_categorical(y_train, 10)\n",
    "y_test = keras.utils.to_categorical(y_test, 10)"
   ]
  },
  {
   "cell_type": "markdown",
   "id": "ac39ec54",
   "metadata": {},
   "source": [
    "### Constructing the network"
   ]
  },
  {
   "cell_type": "code",
   "execution_count": 3,
   "id": "e4d56ecd",
   "metadata": {},
   "outputs": [],
   "source": [
    "from keras.models import Sequential\n",
    "from keras.layers import Conv2D, MaxPooling2D, Flatten, Dense\n",
    "\n",
    "model = Sequential([\n",
    "    Conv2D(32, (3,3), activation='relu', input_shape=(32, 32, 3)),\n",
    "    MaxPooling2D((2,2)),\n",
    "    Conv2D(64, (3,3), activation='relu'),\n",
    "    MaxPooling2D((2,2)),\n",
    "    Flatten(),\n",
    "    Dense(64, activation='relu'),\n",
    "    Dense(10, activation='softmax')\n",
    "])"
   ]
  },
  {
   "cell_type": "code",
   "execution_count": 4,
   "id": "abb3f6c1",
   "metadata": {},
   "outputs": [
    {
     "name": "stdout",
     "output_type": "stream",
     "text": [
      "Epoch 1/10\n",
      "1563/1563 [==============================] - 8s 5ms/step - loss: 1.4571 - accuracy: 0.4783\n",
      "Epoch 2/10\n",
      "1563/1563 [==============================] - 8s 5ms/step - loss: 1.1121 - accuracy: 0.6108\n",
      "Epoch 3/10\n",
      "1563/1563 [==============================] - 8s 5ms/step - loss: 0.9821 - accuracy: 0.6590\n",
      "Epoch 4/10\n",
      "1563/1563 [==============================] - 8s 5ms/step - loss: 0.8961 - accuracy: 0.6891\n",
      "Epoch 5/10\n",
      "1563/1563 [==============================] - 8s 5ms/step - loss: 0.8298 - accuracy: 0.7111\n",
      "Epoch 6/10\n",
      "1563/1563 [==============================] - 8s 5ms/step - loss: 0.7707 - accuracy: 0.7324\n",
      "Epoch 7/10\n",
      "1563/1563 [==============================] - 8s 5ms/step - loss: 0.7263 - accuracy: 0.7464\n",
      "Epoch 8/10\n",
      "1563/1563 [==============================] - 8s 5ms/step - loss: 0.6826 - accuracy: 0.7599\n",
      "Epoch 9/10\n",
      "1563/1563 [==============================] - 8s 5ms/step - loss: 0.6438 - accuracy: 0.7745\n",
      "Epoch 10/10\n",
      "1563/1563 [==============================] - 8s 5ms/step - loss: 0.6106 - accuracy: 0.7854\n"
     ]
    },
    {
     "data": {
      "text/plain": [
       "<keras.src.callbacks.History at 0x17749c090>"
      ]
     },
     "execution_count": 4,
     "metadata": {},
     "output_type": "execute_result"
    }
   ],
   "source": [
    "model.compile(optimizer='adam', loss='categorical_crossentropy', metrics=['accuracy'])\n",
    "model.fit(x_train, y_train, epochs=10, batch_size=32)"
   ]
  },
  {
   "cell_type": "code",
   "execution_count": 5,
   "id": "4ebcba08",
   "metadata": {},
   "outputs": [
    {
     "name": "stdout",
     "output_type": "stream",
     "text": [
      "313/313 [==============================] - 1s 2ms/step - loss: 0.9350 - accuracy: 0.6929\n",
      "Test Accuracy 0.6929000020027161\n",
      "Test Loss 0.9350399374961853\n"
     ]
    }
   ],
   "source": [
    "test_loss, test_acc = model.evaluate(x_test, y_test)\n",
    "print('Test Accuracy', test_acc)\n",
    "print('Test Loss', test_loss)"
   ]
  },
  {
   "cell_type": "markdown",
   "id": "ca4b3908",
   "metadata": {},
   "source": [
    "### Improved Model"
   ]
  },
  {
   "cell_type": "code",
   "execution_count": 6,
   "id": "92c2b648",
   "metadata": {},
   "outputs": [],
   "source": [
    "# model_2 with Dropout and Batch Normalization\n",
    "from keras.layers import Dropout, BatchNormalization\n",
    "\n",
    "model_2 = Sequential()\n",
    "\n",
    "model_2.add(Conv2D(64,(4,4), input_shape=(32,32,3), activation='relu', padding='same'))\n",
    "model_2.add(BatchNormalization())\n",
    "\n",
    "model_2.add(Conv2D(64,(4,4), activation='relu', padding='same'))\n",
    "model_2.add(BatchNormalization())\n",
    "\n",
    "model_2.add(MaxPooling2D(pool_size=(2,2)))\n",
    "\n",
    "model_2.add(Dropout(0.2))\n",
    "\n",
    "model_2.add(Conv2D(128,(4,4), activation='relu', padding='same'))\n",
    "model_2.add(BatchNormalization())\n",
    "model_2.add(Conv2D(128,(4,4), activation='relu', padding='same'))\n",
    "model_2.add(BatchNormalization())\n",
    "model_2.add(MaxPooling2D(pool_size=(2,2)))\n",
    "model_2.add(Dropout(0.25))\n",
    "\n",
    "model_2.add(Conv2D(128,(4,4), activation='relu', padding='same'))\n",
    "model_2.add(BatchNormalization())\n",
    "\n",
    "model_2.add(Conv2D(128,(4,4), activation='relu', padding='same'))\n",
    "model_2.add(BatchNormalization())\n",
    "model_2.add(MaxPooling2D(pool_size=(2,2)))\n",
    "model_2.add(Dropout(0.35))\n",
    "\n",
    "model_2.add(Flatten())\n",
    "\n",
    "model_2.add(Dense(256, activation='relu'))\n",
    "model_2.add(BatchNormalization())\n",
    "model_2.add(Dropout(0.5))\n",
    "model_2.add(Dense(10, activation='softmax'))"
   ]
  },
  {
   "cell_type": "code",
   "execution_count": 7,
   "id": "faed3a0d",
   "metadata": {},
   "outputs": [],
   "source": [
    "from keras.optimizers.legacy import Adam\n",
    "optimizer = Adam(learning_rate=0.0001)\n",
    "\n",
    "model_2.compile(optimizer=optimizer, loss='categorical_crossentropy', metrics=['accuracy'])"
   ]
  },
  {
   "cell_type": "code",
   "execution_count": 8,
   "id": "a41bcb16",
   "metadata": {},
   "outputs": [
    {
     "name": "stdout",
     "output_type": "stream",
     "text": [
      "Epoch 1/25\n",
      "1563/1563 [==============================] - 201s 128ms/step - loss: 2.1606 - accuracy: 0.3395\n",
      "Epoch 2/25\n",
      "1563/1563 [==============================] - 202s 129ms/step - loss: 1.5334 - accuracy: 0.4815\n",
      "Epoch 3/25\n",
      "1563/1563 [==============================] - 202s 129ms/step - loss: 1.2324 - accuracy: 0.5729\n",
      "Epoch 4/25\n",
      "1563/1563 [==============================] - 204s 131ms/step - loss: 1.0399 - accuracy: 0.6397\n",
      "Epoch 5/25\n",
      "1563/1563 [==============================] - 209s 134ms/step - loss: 0.9078 - accuracy: 0.6836\n",
      "Epoch 6/25\n",
      "1563/1563 [==============================] - 210s 135ms/step - loss: 0.8002 - accuracy: 0.7220\n",
      "Epoch 7/25\n",
      "1563/1563 [==============================] - 209s 134ms/step - loss: 0.7122 - accuracy: 0.7516\n",
      "Epoch 8/25\n",
      "1563/1563 [==============================] - 208s 133ms/step - loss: 0.6471 - accuracy: 0.7775\n",
      "Epoch 9/25\n",
      "1563/1563 [==============================] - 210s 134ms/step - loss: 0.5825 - accuracy: 0.7987\n",
      "Epoch 10/25\n",
      "1563/1563 [==============================] - 210s 134ms/step - loss: 0.5339 - accuracy: 0.8173\n",
      "Epoch 11/25\n",
      "1563/1563 [==============================] - 211s 135ms/step - loss: 0.4866 - accuracy: 0.8326\n",
      "Epoch 12/25\n",
      "1563/1563 [==============================] - 210s 134ms/step - loss: 0.4449 - accuracy: 0.8487\n",
      "Epoch 13/25\n",
      "1563/1563 [==============================] - 208s 133ms/step - loss: 0.4100 - accuracy: 0.8609\n",
      "Epoch 14/25\n",
      "1563/1563 [==============================] - 210s 135ms/step - loss: 0.3798 - accuracy: 0.8683\n",
      "Epoch 15/25\n",
      "1563/1563 [==============================] - 208s 133ms/step - loss: 0.3416 - accuracy: 0.8819\n",
      "Epoch 16/25\n",
      "1563/1563 [==============================] - 211s 135ms/step - loss: 0.3233 - accuracy: 0.8887\n",
      "Epoch 17/25\n",
      "1563/1563 [==============================] - 206s 132ms/step - loss: 0.2954 - accuracy: 0.8976\n",
      "Epoch 18/25\n",
      "1563/1563 [==============================] - 206s 132ms/step - loss: 0.2722 - accuracy: 0.9055\n",
      "Epoch 19/25\n",
      "1563/1563 [==============================] - 207s 132ms/step - loss: 0.2581 - accuracy: 0.9096\n",
      "Epoch 20/25\n",
      "1563/1563 [==============================] - 206s 132ms/step - loss: 0.2381 - accuracy: 0.9182\n",
      "Epoch 21/25\n",
      "1563/1563 [==============================] - 208s 133ms/step - loss: 0.2210 - accuracy: 0.9235\n",
      "Epoch 22/25\n",
      "1563/1563 [==============================] - 207s 132ms/step - loss: 0.2099 - accuracy: 0.9274\n",
      "Epoch 23/25\n",
      "1563/1563 [==============================] - 209s 133ms/step - loss: 0.1903 - accuracy: 0.9340\n",
      "Epoch 24/25\n",
      "1563/1563 [==============================] - 208s 133ms/step - loss: 0.1791 - accuracy: 0.9372\n",
      "Epoch 25/25\n",
      "1563/1563 [==============================] - 208s 133ms/step - loss: 0.1718 - accuracy: 0.9410\n"
     ]
    },
    {
     "data": {
      "text/plain": [
       "<keras.src.callbacks.History at 0x291162b10>"
      ]
     },
     "execution_count": 8,
     "metadata": {},
     "output_type": "execute_result"
    }
   ],
   "source": [
    "model_2.fit(x_train, y_train, epochs=25, batch_size=32)"
   ]
  },
  {
   "cell_type": "code",
   "execution_count": 9,
   "id": "4bf47e89",
   "metadata": {},
   "outputs": [
    {
     "name": "stdout",
     "output_type": "stream",
     "text": [
      "313/313 [==============================] - 12s 39ms/step - loss: 0.5636 - accuracy: 0.8450\n",
      "Test Accuracy: 0.8450000286102295\n",
      "Test Loss: 0.5635603666305542\n"
     ]
    }
   ],
   "source": [
    "test_loss, test_acc = model_2.evaluate(x_test, y_test)\n",
    "print('Test Accuracy:', test_acc)\n",
    "print('Test Loss:', test_loss)"
   ]
  },
  {
   "cell_type": "code",
   "execution_count": null,
   "id": "96ca0cbb",
   "metadata": {},
   "outputs": [],
   "source": []
  },
  {
   "cell_type": "code",
   "execution_count": null,
   "id": "4d61bfe1",
   "metadata": {},
   "outputs": [],
   "source": []
  },
  {
   "cell_type": "code",
   "execution_count": null,
   "id": "de9f5f8c",
   "metadata": {},
   "outputs": [],
   "source": []
  },
  {
   "cell_type": "code",
   "execution_count": null,
   "id": "2b4d3b0d",
   "metadata": {},
   "outputs": [],
   "source": []
  },
  {
   "cell_type": "code",
   "execution_count": null,
   "id": "751408e9",
   "metadata": {},
   "outputs": [],
   "source": []
  }
 ],
 "metadata": {
  "kernelspec": {
   "display_name": "Python 3 (ipykernel)",
   "language": "python",
   "name": "python3"
  },
  "language_info": {
   "codemirror_mode": {
    "name": "ipython",
    "version": 3
   },
   "file_extension": ".py",
   "mimetype": "text/x-python",
   "name": "python",
   "nbconvert_exporter": "python",
   "pygments_lexer": "ipython3",
   "version": "3.11.4"
  }
 },
 "nbformat": 4,
 "nbformat_minor": 5
}
